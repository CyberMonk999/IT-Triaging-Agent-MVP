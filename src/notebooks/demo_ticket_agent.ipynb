{
 "cells": [
  {
   "cell_type": "markdown",
   "metadata": {},
   "source": [
    "# IT Ticket Routing Agent Demo\n",
    "This notebook demonstrates the Q-learning agent assigning IT tickets using embeddings."
   ]
  },
  {
   "cell_type": "code",
   "metadata": {},
   "source": [
    "!pip install sentence-transformers torch numpy"
   ]
  },
  {
   "cell_type": "code",
   "metadata": {},
   "source": [
    "import torch\n",
    "import numpy as np\n",
    "from src.qnetwork import QNetwork\n",
    "from src.agent import TicketAgent\n",
    "from sentence_transformers import SentenceTransformer"
   ]
  },
  {
   "cell_type": "code",
   "metadata": {},
   "source": [
    "# Example ticket texts\n",
    "tickets = [\n",
    "    \"Email not working\",\n",
    "    \"VPN connection issue\",\n",
    "    \"Software installation request\",\n",
    "    \"Password reset required\"\n",
    "]\n",
    "labels = np.array([0, 1, 2, 0])  # Example team labels\n",
    "\n",
    "# Compute embeddings\n",
    "model = SentenceTransformer('all-MiniLM-L6-v2')\n",
    "embeddings = model.encode(tickets, convert_to_numpy=True)"
   ]
  },
  {
   "cell_type": "code",
   "metadata": {},
   "source": [
    "# Initialize agent\n",
    "input_dim = embeddings.shape[1]\n",
    "num_teams = 3\n",
    "agent = TicketAgent(input_dim=input_dim, num_teams=num_teams)\n",
    "\n",
    "# Simulate ticket assignment\n",
    "queue = np.zeros(num_teams, dtype=int)\n",
    "for i, emb in enumerate(embeddings):\n",
    "    state_tensor = torch.tensor(emb, dtype=torch.float32)\n",
    "    action = agent.select_action(state_tensor)\n",
    "    queue[action] += 1\n",
    "    print(f\"Ticket: '{tickets[i]}' -> Assigned Team: {action} | Queue: {queue}\")"
   ]
  }
 ],
 "metadata": {
  "kernelspec": {
   "display_name": "Python 3",
   "language": "python",
   "name": "python3"
  },
  "language_info": {
   "name": "python",
   "version": "3.10"
  }
 },
 "nbformat": 4,
 "nbformat_minor": 5
}
